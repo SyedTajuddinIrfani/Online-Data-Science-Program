{
 "cells": [
  {
   "cell_type": "code",
   "execution_count": 1,
   "id": "77dfc4d9",
   "metadata": {},
   "outputs": [
    {
     "name": "stdout",
     "output_type": "stream",
     "text": [
      "Twinkle, twinkle, little star,\n",
      "\tHow I wonder what you are!\n",
      "\t\tUp above the world so high,\n",
      "\t\tLike a diamond in the sky.\n",
      "Twinkle, twinkle, little star,\n",
      "\tHow I wonder what you are!\n"
     ]
    }
   ],
   "source": [
    "print(\"Twinkle, twinkle, little star,\")\n",
    "print(\"\\tHow I wonder what you are!\")\n",
    "print(\"\\t\\tUp above the world so high,\")\n",
    "print(\"\\t\\tLike a diamond in the sky.\")\n",
    "print(\"Twinkle, twinkle, little star,\")\n",
    "print(\"\\tHow I wonder what you are!\")"
   ]
  },
  {
   "cell_type": "code",
   "execution_count": 2,
   "id": "eb923c3c",
   "metadata": {},
   "outputs": [
    {
     "name": "stdout",
     "output_type": "stream",
     "text": [
      "Python Version Which I Am Using is  3.9.7 (default, Sep 16 2021, 16:59:28) [MSC v.1916 64 bit (AMD64)]\n"
     ]
    }
   ],
   "source": [
    "import sys\n",
    "print(\"Python Version Which I Am Using is \",sys.version)"
   ]
  },
  {
   "cell_type": "code",
   "execution_count": 7,
   "id": "20ad1e1b",
   "metadata": {},
   "outputs": [
    {
     "name": "stdout",
     "output_type": "stream",
     "text": [
      "Today's Time: 19:16:59\n",
      "Today's Date: 2021-12-29\n"
     ]
    }
   ],
   "source": [
    "from datetime import date\n",
    "from datetime import datetime\n",
    "now = datetime.now()\n",
    "a=now.strftime(\"%H:%M:%S\")\n",
    "b = date.today()\n",
    "print(\"Today's Time:\", a)\n",
    "print(\"Today's Date:\", b)"
   ]
  },
  {
   "cell_type": "code",
   "execution_count": 8,
   "id": "12253139",
   "metadata": {},
   "outputs": [
    {
     "name": "stdout",
     "output_type": "stream",
     "text": [
      "Enter the Radius of the Circle : 6.3\n",
      "The Area of the Circle with Radius 6.3 is: 124.68981242097888\n"
     ]
    }
   ],
   "source": [
    "from math import pi\n",
    "radius = float(input (\"Enter the Radius of the Circle : \"))\n",
    "area = pi * radius**2;\n",
    "print (\"The Area of the Circle with Radius \" +str(radius)+\" is: \" + str(area))"
   ]
  },
  {
   "cell_type": "code",
   "execution_count": 9,
   "id": "f3211a0f",
   "metadata": {},
   "outputs": [
    {
     "name": "stdout",
     "output_type": "stream",
     "text": [
      "Enter your First Name : Syed\n",
      "Enter your Last Name : Tajuddin\n",
      "\n",
      "The First Name is Syed\n",
      "The First Name is Tajuddin\n",
      "\n",
      "The Name in Reverse Order is \n",
      "Tajuddin Syed\n"
     ]
    }
   ],
   "source": [
    "first_name = input(\"Enter your First Name : \")\n",
    "last_name = input(\"Enter your Last Name : \")\n",
    "print (\"\\nThe First Name is \" + first_name)\n",
    "print (\"The First Name is \" + last_name)\n",
    "print (\"\\nThe Name in Reverse Order is \\n\"+last_name + \" \" + first_name)"
   ]
  },
  {
   "cell_type": "code",
   "execution_count": 10,
   "id": "374bf609",
   "metadata": {},
   "outputs": [
    {
     "name": "stdout",
     "output_type": "stream",
     "text": [
      "Enter first number: 9.6\n",
      "Enter second number: 90.4\n",
      "The sum of 9.6 and 90.4 is 100.0\n"
     ]
    }
   ],
   "source": [
    "num1 = input(\"Enter first number: \")\n",
    "num2 = input(\"Enter second number: \")\n",
    "sum = float(num1) + float(num2)\n",
    "print(\"The sum of \"+ num1 + \" and \"+ num2 + \" is \"+ str(sum))"
   ]
  },
  {
   "cell_type": "code",
   "execution_count": null,
   "id": "cb83ec98",
   "metadata": {},
   "outputs": [],
   "source": []
  }
 ],
 "metadata": {
  "kernelspec": {
   "display_name": "Python 3 (ipykernel)",
   "language": "python",
   "name": "python3"
  },
  "language_info": {
   "codemirror_mode": {
    "name": "ipython",
    "version": 3
   },
   "file_extension": ".py",
   "mimetype": "text/x-python",
   "name": "python",
   "nbconvert_exporter": "python",
   "pygments_lexer": "ipython3",
   "version": "3.9.7"
  }
 },
 "nbformat": 4,
 "nbformat_minor": 5
}
